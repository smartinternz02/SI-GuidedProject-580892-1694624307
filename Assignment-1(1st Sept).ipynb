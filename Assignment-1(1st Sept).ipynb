{
 "cells": [
  {
   "cell_type": "markdown",
   "id": "ce40fe9f",
   "metadata": {},
   "source": [
    "### student details\n",
    "Name: Vijayanagara Sharanya\n",
    "regno: 21bce8002\n",
    "campus: VIT-AP"
   ]
  },
  {
   "cell_type": "markdown",
   "id": "dc185274",
   "metadata": {},
   "source": [
    "### Numpy exercises "
   ]
  },
  {
   "cell_type": "code",
   "execution_count": 2,
   "id": "6695f443",
   "metadata": {},
   "outputs": [],
   "source": [
    "import numpy as np"
   ]
  },
  {
   "cell_type": "markdown",
   "id": "e639ecd8",
   "metadata": {},
   "source": [
    "#### array of 10 zeroes\n"
   ]
  },
  {
   "cell_type": "code",
   "execution_count": 4,
   "id": "08a54d92",
   "metadata": {},
   "outputs": [
    {
     "data": {
      "text/plain": [
       "array([0., 0., 0., 0., 0., 0., 0., 0., 0., 0.])"
      ]
     },
     "execution_count": 4,
     "metadata": {},
     "output_type": "execute_result"
    }
   ],
   "source": [
    "\n",
    "a = np.zeros(10)\n",
    "a"
   ]
  },
  {
   "cell_type": "markdown",
   "id": "35981ebe",
   "metadata": {},
   "source": [
    "#### array of 10 ones"
   ]
  },
  {
   "cell_type": "code",
   "execution_count": 5,
   "id": "735a8f46",
   "metadata": {},
   "outputs": [
    {
     "data": {
      "text/plain": [
       "array([1., 1., 1., 1., 1., 1., 1., 1., 1., 1.])"
      ]
     },
     "execution_count": 5,
     "metadata": {},
     "output_type": "execute_result"
    }
   ],
   "source": [
    "\n",
    "b = np.ones(10)\n",
    "b"
   ]
  },
  {
   "cell_type": "markdown",
   "id": "b3e6a61e",
   "metadata": {},
   "source": [
    "#### array of 10 fives"
   ]
  },
  {
   "cell_type": "code",
   "execution_count": 10,
   "id": "16a4bbf4",
   "metadata": {},
   "outputs": [
    {
     "data": {
      "text/plain": [
       "array([5., 5., 5., 5., 5., 5., 5., 5., 5., 5.])"
      ]
     },
     "execution_count": 10,
     "metadata": {},
     "output_type": "execute_result"
    }
   ],
   "source": [
    "\n",
    "c = np.ones(10) *5\n",
    "c"
   ]
  },
  {
   "cell_type": "markdown",
   "id": "efdf0d64",
   "metadata": {},
   "source": [
    "#### Create an array of the integers from 10 to 50"
   ]
  },
  {
   "cell_type": "code",
   "execution_count": 16,
   "id": "41b150c3",
   "metadata": {},
   "outputs": [
    {
     "data": {
      "text/plain": [
       "array([10, 11, 12, 13, 14, 15, 16, 17, 18, 19, 20, 21, 22, 23, 24, 25, 26,\n",
       "       27, 28, 29, 30, 31, 32, 33, 34, 35, 36, 37, 38, 39, 40, 41, 42, 43,\n",
       "       44, 45, 46, 47, 48, 49])"
      ]
     },
     "execution_count": 16,
     "metadata": {},
     "output_type": "execute_result"
    }
   ],
   "source": [
    "\n",
    "d = np.arange(10,50)\n",
    "d"
   ]
  },
  {
   "cell_type": "markdown",
   "id": "5335b3f5",
   "metadata": {},
   "source": [
    "#### Create an array of all the even integers from 10 to 50"
   ]
  },
  {
   "cell_type": "code",
   "execution_count": 18,
   "id": "a71f5f60",
   "metadata": {},
   "outputs": [
    {
     "data": {
      "text/plain": [
       "array([10, 12, 14, 16, 18, 20, 22, 24, 26, 28, 30, 32, 34, 36, 38, 40, 42,\n",
       "       44, 46, 48])"
      ]
     },
     "execution_count": 18,
     "metadata": {},
     "output_type": "execute_result"
    }
   ],
   "source": [
    "\n",
    "e = np.arange(10,50,2)\n",
    "e"
   ]
  },
  {
   "cell_type": "markdown",
   "id": "5d5d98c3",
   "metadata": {},
   "source": [
    "#### Create a 3x3 matrix with values ranging from 0 to 8"
   ]
  },
  {
   "cell_type": "code",
   "execution_count": 19,
   "id": "074856b0",
   "metadata": {},
   "outputs": [
    {
     "data": {
      "text/plain": [
       "array([[[0, 1, 2],\n",
       "        [3, 4, 5],\n",
       "        [6, 7, 8]]])"
      ]
     },
     "execution_count": 19,
     "metadata": {},
     "output_type": "execute_result"
    }
   ],
   "source": [
    "\n",
    "f = np.array([[[0,1,2],[3,4,5],[6,7,8]]])\n",
    "f"
   ]
  },
  {
   "cell_type": "markdown",
   "id": "1b143fdd",
   "metadata": {},
   "source": [
    "#### Create a 3x3 identity matrix"
   ]
  },
  {
   "cell_type": "code",
   "execution_count": 21,
   "id": "72c0a4b5",
   "metadata": {},
   "outputs": [
    {
     "data": {
      "text/plain": [
       "array([[1., 0., 0.],\n",
       "       [0., 1., 0.],\n",
       "       [0., 0., 1.]])"
      ]
     },
     "execution_count": 21,
     "metadata": {},
     "output_type": "execute_result"
    }
   ],
   "source": [
    "\n",
    "g = np.eye(3)\n",
    "g"
   ]
  },
  {
   "cell_type": "markdown",
   "id": "d91c833e",
   "metadata": {},
   "source": [
    "#### Use NumPy to generate a random number between 0 and 1"
   ]
  },
  {
   "cell_type": "code",
   "execution_count": 38,
   "id": "a487032e",
   "metadata": {},
   "outputs": [
    {
     "data": {
      "text/plain": [
       "0.4321769942291821"
      ]
     },
     "execution_count": 38,
     "metadata": {},
     "output_type": "execute_result"
    }
   ],
   "source": [
    "\n",
    "h = np.random.rand()\n",
    "h"
   ]
  },
  {
   "cell_type": "markdown",
   "id": "ab7e13d1",
   "metadata": {},
   "source": [
    "#### Use NumPy to generate an array of 25 random numbers sampled from a standard normal distribution"
   ]
  },
  {
   "cell_type": "code",
   "execution_count": 39,
   "id": "b4c7ddef",
   "metadata": {},
   "outputs": [
    {
     "data": {
      "text/plain": [
       "array([ 0.07246378, -0.03125076,  1.57649894,  0.98313825, -0.82044295,\n",
       "        0.21222587,  0.71672304,  0.33594553,  1.69292581, -0.71717881,\n",
       "       -0.65662545,  1.35989328, -0.51880077,  2.92444205, -0.33026765,\n",
       "       -0.64496267, -2.20886565, -0.09955135, -0.69008888, -0.24121851,\n",
       "        0.28093056, -0.64002403, -1.10084203,  0.05794563,  0.10472528])"
      ]
     },
     "execution_count": 39,
     "metadata": {},
     "output_type": "execute_result"
    }
   ],
   "source": [
    "\n",
    "i = np.random.normal(size=25)\n",
    "i"
   ]
  },
  {
   "cell_type": "markdown",
   "id": "1c9455d7",
   "metadata": {},
   "source": [
    "#### Create the following matrix"
   ]
  },
  {
   "cell_type": "code",
   "execution_count": 42,
   "id": "d616c47e",
   "metadata": {
    "scrolled": true
   },
   "outputs": [
    {
     "data": {
      "text/plain": [
       "array([0.01, 0.02, 0.03, 0.04, 0.05, 0.06, 0.07, 0.08, 0.09, 0.1 , 0.11,\n",
       "       0.12, 0.13, 0.14, 0.15, 0.16, 0.17, 0.18, 0.19, 0.2 , 0.21, 0.22,\n",
       "       0.23, 0.24, 0.25, 0.26, 0.27, 0.28, 0.29, 0.3 , 0.31, 0.32, 0.33,\n",
       "       0.34, 0.35, 0.36, 0.37, 0.38, 0.39, 0.4 , 0.41, 0.42, 0.43, 0.44,\n",
       "       0.45, 0.46, 0.47, 0.48, 0.49, 0.5 , 0.51, 0.52, 0.53, 0.54, 0.55,\n",
       "       0.56, 0.57, 0.58, 0.59, 0.6 , 0.61, 0.62, 0.63, 0.64, 0.65, 0.66,\n",
       "       0.67, 0.68, 0.69, 0.7 , 0.71, 0.72, 0.73, 0.74, 0.75, 0.76, 0.77,\n",
       "       0.78, 0.79, 0.8 , 0.81, 0.82, 0.83, 0.84, 0.85, 0.86, 0.87, 0.88,\n",
       "       0.89, 0.9 , 0.91, 0.92, 0.93, 0.94, 0.95, 0.96, 0.97, 0.98, 0.99,\n",
       "       1.  ])"
      ]
     },
     "execution_count": 42,
     "metadata": {},
     "output_type": "execute_result"
    }
   ],
   "source": [
    "j = np.linspace(0.01,1,100)\n",
    "j"
   ]
  },
  {
   "cell_type": "markdown",
   "id": "81861be0",
   "metadata": {},
   "source": [
    "#### Create an array of 20 linearly spaced points between 0 and 1"
   ]
  },
  {
   "cell_type": "code",
   "execution_count": 47,
   "id": "d9895d45",
   "metadata": {},
   "outputs": [
    {
     "data": {
      "text/plain": [
       "array([0.        , 0.05263158, 0.10526316, 0.15789474, 0.21052632,\n",
       "       0.26315789, 0.31578947, 0.36842105, 0.42105263, 0.47368421,\n",
       "       0.52631579, 0.57894737, 0.63157895, 0.68421053, 0.73684211,\n",
       "       0.78947368, 0.84210526, 0.89473684, 0.94736842, 1.        ])"
      ]
     },
     "execution_count": 47,
     "metadata": {},
     "output_type": "execute_result"
    }
   ],
   "source": [
    "\n",
    "k = np.linspace(0,1,20)\n",
    "k"
   ]
  },
  {
   "cell_type": "markdown",
   "id": "3e6ad1a4",
   "metadata": {},
   "source": [
    "### Numpy Indexing and Selection\n",
    "\n"
   ]
  },
  {
   "cell_type": "code",
   "execution_count": 48,
   "id": "2337db28",
   "metadata": {},
   "outputs": [
    {
     "data": {
      "text/plain": [
       "array([[ 1,  2,  3,  4,  5],\n",
       "       [ 6,  7,  8,  9, 10],\n",
       "       [11, 12, 13, 14, 15],\n",
       "       [16, 17, 18, 19, 20],\n",
       "       [21, 22, 23, 24, 25]])"
      ]
     },
     "execution_count": 48,
     "metadata": {},
     "output_type": "execute_result"
    }
   ],
   "source": [
    "mat = np.arange(1,26).reshape(5,5)\n",
    "mat"
   ]
  },
  {
   "cell_type": "markdown",
   "id": "c85d2ced",
   "metadata": {},
   "source": [
    "#### print the following output\n",
    "#### array([[12, 13, 14, 15],\n",
    "####        [17, 18, 19, 20],\n",
    "####        [22, 23, 24, 25]])"
   ]
  },
  {
   "cell_type": "code",
   "execution_count": 65,
   "id": "31a57a22",
   "metadata": {},
   "outputs": [
    {
     "data": {
      "text/plain": [
       "array([[12, 13, 14, 15],\n",
       "       [17, 18, 19, 20],\n",
       "       [22, 23, 24, 25]])"
      ]
     },
     "execution_count": 65,
     "metadata": {},
     "output_type": "execute_result"
    }
   ],
   "source": [
    "\n",
    "p = mat[2:5,1:5]\n",
    "p"
   ]
  },
  {
   "cell_type": "markdown",
   "id": "55417f9e",
   "metadata": {},
   "source": [
    "#### get the number 20"
   ]
  },
  {
   "cell_type": "code",
   "execution_count": 72,
   "id": "9dd246e1",
   "metadata": {},
   "outputs": [
    {
     "data": {
      "text/plain": [
       "20"
      ]
     },
     "execution_count": 72,
     "metadata": {},
     "output_type": "execute_result"
    }
   ],
   "source": [
    "\n",
    "q = mat[3,4]\n",
    "q"
   ]
  },
  {
   "cell_type": "markdown",
   "id": "1b2bcec6",
   "metadata": {},
   "source": [
    "#### get this output\n",
    "#### array([[ 2],\n",
    "####       [ 7],\n",
    "####       [12]])"
   ]
  },
  {
   "cell_type": "code",
   "execution_count": 85,
   "id": "59aaecd4",
   "metadata": {},
   "outputs": [
    {
     "data": {
      "text/plain": [
       "array([[ 7],\n",
       "       [12],\n",
       "       [17]])"
      ]
     },
     "execution_count": 85,
     "metadata": {},
     "output_type": "execute_result"
    }
   ],
   "source": [
    "\n",
    "r = mat[1:4,1:2]\n",
    "r"
   ]
  },
  {
   "cell_type": "markdown",
   "id": "cda5fbf4",
   "metadata": {},
   "source": [
    "#### get this output\n",
    "array([21, 22, 23, 24, 25])"
   ]
  },
  {
   "cell_type": "code",
   "execution_count": 90,
   "id": "69c12ae0",
   "metadata": {},
   "outputs": [
    {
     "data": {
      "text/plain": [
       "array([[21, 22, 23, 24, 25]])"
      ]
     },
     "execution_count": 90,
     "metadata": {},
     "output_type": "execute_result"
    }
   ],
   "source": [
    "\n",
    "s = mat[4:5]\n",
    "s"
   ]
  },
  {
   "cell_type": "markdown",
   "id": "cfca668b",
   "metadata": {},
   "source": [
    "#### get this output\n",
    "#### array([[16, 17, 18, 19, 20],\n",
    "####        [21, 22, 23, 24, 25]])"
   ]
  },
  {
   "cell_type": "code",
   "execution_count": 91,
   "id": "45d21074",
   "metadata": {},
   "outputs": [
    {
     "data": {
      "text/plain": [
       "array([[16, 17, 18, 19, 20],\n",
       "       [21, 22, 23, 24, 25]])"
      ]
     },
     "execution_count": 91,
     "metadata": {},
     "output_type": "execute_result"
    }
   ],
   "source": [
    "\n",
    "t = mat[3:5]\n",
    "t"
   ]
  },
  {
   "cell_type": "markdown",
   "id": "b3faf96f",
   "metadata": {},
   "source": [
    "# Now do the following"
   ]
  },
  {
   "cell_type": "markdown",
   "id": "3bc42906",
   "metadata": {},
   "source": [
    "#### Get the sum of all the values in mat"
   ]
  },
  {
   "cell_type": "code",
   "execution_count": 92,
   "id": "859ce8d7",
   "metadata": {},
   "outputs": [
    {
     "data": {
      "text/plain": [
       "325"
      ]
     },
     "execution_count": 92,
     "metadata": {},
     "output_type": "execute_result"
    }
   ],
   "source": [
    "\n",
    "l = mat.sum()\n",
    "l"
   ]
  },
  {
   "cell_type": "markdown",
   "id": "12a8297e",
   "metadata": {},
   "source": [
    "#### Get the standard deviation of the values in mat"
   ]
  },
  {
   "cell_type": "code",
   "execution_count": 94,
   "id": "56ecd474",
   "metadata": {},
   "outputs": [
    {
     "data": {
      "text/plain": [
       "7.211102550927978"
      ]
     },
     "execution_count": 94,
     "metadata": {},
     "output_type": "execute_result"
    }
   ],
   "source": [
    "\n",
    "m = mat.std()\n",
    "m"
   ]
  },
  {
   "cell_type": "markdown",
   "id": "79a37663",
   "metadata": {},
   "source": [
    "#### Get the sum of all the columns in mat"
   ]
  },
  {
   "cell_type": "code",
   "execution_count": 96,
   "id": "03ef2c60",
   "metadata": {},
   "outputs": [
    {
     "data": {
      "text/plain": [
       "array([55, 60, 65, 70, 75])"
      ]
     },
     "execution_count": 96,
     "metadata": {},
     "output_type": "execute_result"
    }
   ],
   "source": [
    "\n",
    "n = np.sum(mat, axis=0)\n",
    "n"
   ]
  }
 ],
 "metadata": {
  "kernelspec": {
   "display_name": "Python 3 (ipykernel)",
   "language": "python",
   "name": "python3"
  },
  "language_info": {
   "codemirror_mode": {
    "name": "ipython",
    "version": 3
   },
   "file_extension": ".py",
   "mimetype": "text/x-python",
   "name": "python",
   "nbconvert_exporter": "python",
   "pygments_lexer": "ipython3",
   "version": "3.11.3"
  }
 },
 "nbformat": 4,
 "nbformat_minor": 5
}
